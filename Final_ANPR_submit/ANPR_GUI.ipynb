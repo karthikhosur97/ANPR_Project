{
 "cells": [
  {
   "cell_type": "code",
   "execution_count": 1,
   "metadata": {},
   "outputs": [],
   "source": [
    "from tkinter import *\n",
    "import tkinter.ttk as ttk\n",
    "import csv\n",
    "\n",
    "root = Tk()\n",
    "root.title(\"Python - Import CSV File To Tkinter Table\")\n",
    "width = 500\n",
    "height = 400\n",
    "screen_width = root.winfo_screenwidth()\n",
    "screen_height = root.winfo_screenheight()\n",
    "x = (screen_width / 2) - (width / 2)\n",
    "y = (screen_height / 2) - (height / 2)\n",
    "root.geometry(\"%dx%d+%d+%d\" % (width, height, x, y))\n",
    "root.resizable(0, 0)\n",
    "\n",
    "TableMargin = Frame(root, width=500)\n",
    "TableMargin.pack(side=TOP)\n",
    "\n",
    "scrollbarx = Scrollbar(TableMargin, orient=HORIZONTAL)\n",
    "scrollbary = Scrollbar(TableMargin, orient=VERTICAL)\n",
    "tree = ttk.Treeview(TableMargin, columns=(\"Employye ID\", \"Name\", \"Date\",'Registration Time'), height=400, selectmode=\"extended\",\n",
    "                    yscrollcommand=scrollbary.set, xscrollcommand=scrollbarx.set)\n",
    "scrollbary.config(command=tree.yview)\n",
    "scrollbary.pack(side=RIGHT, fill=Y)\n",
    "scrollbarx.config(command=tree.xview)\n",
    "scrollbarx.pack(side=BOTTOM, fill=X)\n",
    "tree.heading('Employye ID', text=\"Employye ID\", anchor=W)\n",
    "tree.heading('Name', text=\"Name\", anchor=W)\n",
    "tree.heading('Date', text=\"Date\", anchor=W)\n",
    "tree.heading('Registration Time', text=\"Time\", anchor=W)\n",
    "tree.column('#0', stretch=NO, minwidth=0, width=0)\n",
    "tree.column('#1', stretch=NO, minwidth=0, width=120)\n",
    "tree.column('#2', stretch=NO, minwidth=0, width=120)\n",
    "tree.column('#3', stretch=NO, minwidth=0, width=120)\n",
    "tree.column('#3', stretch=NO, minwidth=0, width=120)\n",
    "tree.pack()\n",
    "with open('./RegisteredEmployees/RegisteredEmployees.csv') as f:\n",
    "  reader = csv.DictReader(f, delimiter=',')\n",
    "  for row in reader:\n",
    "    emp_id = row['Employye ID']\n",
    "    name = row['Name']\n",
    "    dt = row['Date']\n",
    "    ti = row['Registration Time']\n",
    "    tree.insert(\"\", 0, values=(emp_id, name, dt,ti))\n",
    "root.mainloop()"
   ]
  },
  {
   "cell_type": "code",
   "execution_count": null,
   "metadata": {},
   "outputs": [],
   "source": []
  },
  {
   "cell_type": "code",
   "execution_count": null,
   "metadata": {},
   "outputs": [],
   "source": []
  }
 ],
 "metadata": {
  "kernelspec": {
   "display_name": "Python 3",
   "language": "python",
   "name": "python3"
  },
  "language_info": {
   "codemirror_mode": {
    "name": "ipython",
    "version": 3
   },
   "file_extension": ".py",
   "mimetype": "text/x-python",
   "name": "python",
   "nbconvert_exporter": "python",
   "pygments_lexer": "ipython3",
   "version": "3.7.6"
  }
 },
 "nbformat": 4,
 "nbformat_minor": 4
}
